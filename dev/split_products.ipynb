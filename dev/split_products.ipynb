{
 "cells": [
  {
   "cell_type": "code",
   "execution_count": null,
   "id": "401df234-3d7c-4c66-9ae8-e2b49ef2314a",
   "metadata": {},
   "outputs": [],
   "source": [
    "import bw2data as bd\n",
    "import bw2calc as bc\n",
    "import multifunctional as mf"
   ]
  },
  {
   "cell_type": "markdown",
   "id": "21cd6126-31f4-4959-a632-29e94f360fbd",
   "metadata": {},
   "source": [
    "# Create a basic database with a separate product\n",
    "\n",
    "Note the node type `multifunctional` and the edge attribute `functional`."
   ]
  },
  {
   "cell_type": "code",
   "execution_count": 2,
   "id": "29223631-a364-4835-9253-9b3500a798d7",
   "metadata": {},
   "outputs": [],
   "source": [
    "if \"multifunctional-products-example\" in bd.projects:\n",
    "    bd.projects.delete_project(\"multifunctional-products-example\", True)"
   ]
  },
  {
   "cell_type": "code",
   "execution_count": 3,
   "id": "500abd0a-03e4-4028-9890-cb385b636f7d",
   "metadata": {},
   "outputs": [],
   "source": [
    "bd.projects.set_current(\"multifunctional-products-example\")"
   ]
  },
  {
   "cell_type": "code",
   "execution_count": 4,
   "id": "f8f862d9-0620-4744-856b-3b9d687ae687",
   "metadata": {},
   "outputs": [
    {
     "name": "stderr",
     "output_type": "stream",
     "text": [
      "100%|██████████████████████████████████████████████████████████████████████████████████████████████████████████████████████████████████████████████████████████████████████████████| 3/3 [00:00<00:00, 12192.74it/s]\n",
      "\u001b[32m2024-07-07 08:20:41.160\u001b[0m | \u001b[34m\u001b[1mDEBUG   \u001b[0m | \u001b[36mmultifunctional.node_classes\u001b[0m:\u001b[36mallocate\u001b[0m:\u001b[36m68\u001b[0m - \u001b[34m\u001b[1mAllocating Multifunctional: 'process - 1' (None, first, None) (id: 3) with strategy price\u001b[0m\n",
      "\u001b[32m2024-07-07 08:20:41.161\u001b[0m | \u001b[34m\u001b[1mDEBUG   \u001b[0m | \u001b[36mmultifunctional.allocation\u001b[0m:\u001b[36mgeneric_allocation\u001b[0m:\u001b[36m56\u001b[0m - \u001b[34m\u001b[1mUsing allocation factor 0.28 for functional edge {'functional': True, 'type': 'production', 'input': ('products', 'product'), 'amount': 4, 'properties': {'price': 7, 'mass': 6}, 'output': ('products', '1')} on activity {'name': 'process - 1', 'code': '1', 'location': 'first', 'type': 'multifunctional', 'database': 'products', 'id': 3, 'exchanges': [{'functional': True, 'type': 'production', 'input': ('products', 'product'), 'amount': 4, 'properties': {'price': 7, 'mass': 6}, 'output': ('products', '1')}, {'functional': True, 'type': 'production', 'name': 'second product - 1', 'unit': 'megajoule', 'amount': 6, 'properties': {'price': 12, 'mass': 4}, 'input': ('products', '1'), 'mf_artificial_code': True, 'output': ('products', '1')}, {'type': 'biosphere', 'name': 'flow - a', 'amount': 10, 'input': ('products', 'a'), 'output': ('products', '1')}]}\u001b[0m\n",
      "\u001b[32m2024-07-07 08:20:41.162\u001b[0m | \u001b[34m\u001b[1mDEBUG   \u001b[0m | \u001b[36mmultifunctional.allocation\u001b[0m:\u001b[36mgeneric_allocation\u001b[0m:\u001b[36m56\u001b[0m - \u001b[34m\u001b[1mUsing allocation factor 0.72 for functional edge {'functional': True, 'type': 'production', 'name': 'second product - 1', 'unit': 'megajoule', 'amount': 6, 'properties': {'price': 12, 'mass': 4}, 'input': ('products', '1'), 'mf_artificial_code': True, 'output': ('products', '1')} on activity {'name': 'process - 1', 'code': '1', 'location': 'first', 'type': 'multifunctional', 'database': 'products', 'id': 3, 'exchanges': [{'functional': True, 'type': 'production', 'input': ('products', 'product'), 'amount': 4, 'properties': {'price': 7, 'mass': 6}, 'output': ('products', '1'), 'mf_allocated': True, 'mf_manual_input_product': True, 'mf_allocated_process_code': '9a5caa5d9c5e41f3bf134b3f2498730f'}, {'functional': True, 'type': 'production', 'name': 'second product - 1', 'unit': 'megajoule', 'amount': 6, 'properties': {'price': 12, 'mass': 4}, 'input': ('products', '1'), 'mf_artificial_code': True, 'output': ('products', '1')}, {'type': 'biosphere', 'name': 'flow - a', 'amount': 10, 'input': ('products', 'a'), 'output': ('products', '1')}]}\u001b[0m\n",
      "\u001b[32m2024-07-07 08:20:41.162\u001b[0m | \u001b[34m\u001b[1mDEBUG   \u001b[0m | \u001b[36mmultifunctional.allocation\u001b[0m:\u001b[36mgeneric_allocation\u001b[0m:\u001b[36m90\u001b[0m - \u001b[34m\u001b[1mCreating new product code 950350d509714345ba191fddaf0e0415 for functional edge:\n",
      "{'functional': True, 'type': 'production', 'name': 'second product - 1', 'unit': 'megajoule', 'amount': 6, 'properties': {'price': 12, 'mass': 4}, 'input': ('products', '950350d509714345ba191fddaf0e0415'), 'output': ('products', '1'), 'mf_allocated': True, 'mf_allocated_process_code': '950350d509714345ba191fddaf0e0415', 'mf_manual_input_product': False}\n",
      "On activity\n",
      "{'name': 'process - 1', 'code': '1', 'location': 'first', 'type': 'multifunctional', 'database': 'products', 'id': 3, 'exchanges': [{'functional': True, 'type': 'production', 'input': ('products', 'product'), 'amount': 4, 'properties': {'price': 7, 'mass': 6}, 'output': ('products', '1'), 'mf_allocated': True, 'mf_manual_input_product': True, 'mf_allocated_process_code': '9a5caa5d9c5e41f3bf134b3f2498730f'}, {'functional': True, 'type': 'production', 'name': 'second product - 1', 'unit': 'megajoule', 'amount': 6, 'properties': {'price': 12, 'mass': 4}, 'input': ('products', '950350d509714345ba191fddaf0e0415'), 'output': ('products', '1'), 'mf_allocated': True, 'mf_allocated_process_code': '950350d509714345ba191fddaf0e0415', 'mf_manual_input_product': False}, {'type': 'biosphere', 'name': 'flow - a', 'amount': 10, 'input': ('products', 'a'), 'output': ('products', '1')}]}\u001b[0m\n"
     ]
    },
    {
     "name": "stdout",
     "output_type": "stream",
     "text": [
      "Vacuuming database \n"
     ]
    }
   ],
   "source": [
    "PRODUCT_DATA = {\n",
    "    (\"products\", \"a\"): {\n",
    "        \"name\": \"flow - a\",\n",
    "        \"code\": \"a\",\n",
    "        \"unit\": \"kg\",\n",
    "        \"type\": \"emission\",\n",
    "        \"categories\": (\"air\",),\n",
    "    },\n",
    "    (\"products\", \"product\"): {\n",
    "        \"type\": \"product\",\n",
    "        \"name\": \"first product\",\n",
    "        \"unit\": \"kg\",\n",
    "        \"exchanges\": [],\n",
    "    },\n",
    "    (\"products\", \"1\"): {\n",
    "        \"name\": \"process - 1\",\n",
    "        \"code\": \"1\",\n",
    "        \"location\": \"first\",\n",
    "        \"type\": \"multifunctional\",\n",
    "        \"exchanges\": [\n",
    "            {\n",
    "                \"functional\": True,\n",
    "                \"type\": \"production\",\n",
    "                \"input\": (\"products\", \"product\"),\n",
    "                \"amount\": 4,\n",
    "                \"properties\": {\n",
    "                    \"price\": 7,\n",
    "                    \"mass\": 6,\n",
    "                },\n",
    "            },\n",
    "            {\n",
    "                \"functional\": True,\n",
    "                \"type\": \"production\",\n",
    "                \"name\": \"second product - 1\",\n",
    "                \"unit\": \"megajoule\",\n",
    "                \"amount\": 6,\n",
    "                \"properties\": {\n",
    "                    \"price\": 12,\n",
    "                    \"mass\": 4,\n",
    "                },\n",
    "            },\n",
    "            {\n",
    "                \"type\": \"biosphere\",\n",
    "                \"name\": \"flow - a\",\n",
    "                \"amount\": 10,\n",
    "                \"input\": (\"products\", \"a\"),\n",
    "            },\n",
    "        ],\n",
    "    },\n",
    "}\n",
    "\n",
    "db = mf.MultifunctionalDatabase(\"products\")\n",
    "db.register(default_allocation=\"price\")\n",
    "db.write(PRODUCT_DATA)"
   ]
  },
  {
   "cell_type": "markdown",
   "id": "3b486f64-cf40-4c76-b5fd-3561322449f2",
   "metadata": {},
   "source": [
    "Writing the database also allocates the multifunctional process:"
   ]
  },
  {
   "cell_type": "code",
   "execution_count": 5,
   "id": "1132f050-10f7-48bb-a872-c861c1d2dcd8",
   "metadata": {},
   "outputs": [
    {
     "name": "stdout",
     "output_type": "stream",
     "text": [
      "Read-only allocated process: 'process - 1' (megajoule, first, None) readonly_process\n",
      "Read-only allocated process: 'process - 1' (kg, first, None) readonly_process\n",
      "'first product' (kg, None, None) product\n",
      "'flow - a' (kg, None, ('air',)) emission\n",
      "Multifunctional: 'process - 1' (None, first, None) multifunctional\n"
     ]
    }
   ],
   "source": [
    "for node in bd.Database(\"products\"):\n",
    "    print(node, node['type'])"
   ]
  },
  {
   "cell_type": "markdown",
   "id": "707e5f1f-4cb0-4770-aa5c-d8d039be870c",
   "metadata": {},
   "source": [
    "Links to the `product` node are preserved:"
   ]
  },
  {
   "cell_type": "code",
   "execution_count": 6,
   "id": "9926b9a6-3c12-4324-900e-c6bd5652ced8",
   "metadata": {},
   "outputs": [
    {
     "name": "stdout",
     "output_type": "stream",
     "text": [
      "Exchange: 4 kg 'first product' (kg, None, None) to Multifunctional: 'process - 1' (None, first, None)>\n",
      "Exchange: 6 megajoule Read-only allocated process: 'process - 1' (megajoule, first, None) to Multifunctional: 'process - 1' (None, first, None)>\n"
     ]
    }
   ],
   "source": [
    "for exc in bd.get_node(name=\"process - 1\", unit=None, database=\"products\").production():\n",
    "    print(exc)"
   ]
  },
  {
   "cell_type": "markdown",
   "id": "a96c8710-23f7-444f-b9c2-729d6c077088",
   "metadata": {},
   "source": [
    "The product node can be used in LCIA:"
   ]
  },
  {
   "cell_type": "code",
   "execution_count": 7,
   "id": "ce04a15c-509d-434c-9ccc-14e64115d4d1",
   "metadata": {},
   "outputs": [],
   "source": [
    "m = bd.Method((\"foo\",))\n",
    "m.register()\n",
    "m.write([(bd.get_node(code=\"a\").id, 5)])"
   ]
  },
  {
   "cell_type": "code",
   "execution_count": 8,
   "id": "6182afd2-8a16-4914-8798-f16b7a3c6aa0",
   "metadata": {},
   "outputs": [
    {
     "data": {
      "text/plain": [
       "3.4999999403953552"
      ]
     },
     "execution_count": 8,
     "metadata": {},
     "output_type": "execute_result"
    }
   ],
   "source": [
    "fu, objs, _ = bd.prepare_lca_inputs(\n",
    "    demand={bd.get_node(code=\"product\"): 1}, method=(\"foo\",)\n",
    ")\n",
    "lca = bc.LCA(fu, data_objs=objs)\n",
    "lca.lci()\n",
    "lca.lcia()\n",
    "lca.score"
   ]
  }
 ],
 "metadata": {
  "kernelspec": {
   "display_name": "Python 3 (ipykernel)",
   "language": "python",
   "name": "python3"
  },
  "language_info": {
   "codemirror_mode": {
    "name": "ipython",
    "version": 3
   },
   "file_extension": ".py",
   "mimetype": "text/x-python",
   "name": "python",
   "nbconvert_exporter": "python",
   "pygments_lexer": "ipython3",
   "version": "3.10.13"
  }
 },
 "nbformat": 4,
 "nbformat_minor": 5
}
